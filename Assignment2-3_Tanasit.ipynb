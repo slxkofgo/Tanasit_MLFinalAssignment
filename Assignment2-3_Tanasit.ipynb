{
 "cells": [
  {
   "cell_type": "raw",
   "metadata": {},
   "source": [
    "MACHINE LEARNING ASSIGNMENT 2-3\n",
    "Tanasit MAHAKITTIKUN (e197043)"
   ]
  },
  {
   "cell_type": "code",
   "execution_count": 28,
   "metadata": {},
   "outputs": [],
   "source": [
    "# prepare library\n",
    "\n",
    "import pandas as pd\n",
    "import numpy as np\n",
    "import xgboost as xgb\n",
    "import matplotlib.pyplot as plt\n",
    "from sklearn.model_selection import train_test_split\n",
    "from sklearn.metrics import classification_report, confusion_matrix, accuracy_score\n",
    "from sklearn import preprocessing\n",
    "import matplotlib.pyplot as plt \n",
    "plt.rc(\"font\", size=14)\n",
    "from sklearn.linear_model import LogisticRegression\n",
    "import seaborn as sns\n",
    "sns.set(style=\"white\")\n",
    "sns.set(style=\"whitegrid\", color_codes=True)\n",
    "from imblearn import under_sampling, over_sampling\n",
    "from imblearn.over_sampling import SMOTE\n",
    "from sklearn.feature_selection import RFE\n",
    "import statsmodels.api as sm\n",
    "from sklearn import metrics\n",
    "from sklearn.metrics import confusion_matrix\n",
    "from sklearn.metrics import roc_auc_score\n",
    "from sklearn.metrics import roc_curve"
   ]
  },
  {
   "cell_type": "code",
   "execution_count": 29,
   "metadata": {},
   "outputs": [
    {
     "data": {
      "text/html": [
       "<div>\n",
       "<style scoped>\n",
       "    .dataframe tbody tr th:only-of-type {\n",
       "        vertical-align: middle;\n",
       "    }\n",
       "\n",
       "    .dataframe tbody tr th {\n",
       "        vertical-align: top;\n",
       "    }\n",
       "\n",
       "    .dataframe thead th {\n",
       "        text-align: right;\n",
       "    }\n",
       "</style>\n",
       "<table border=\"1\" class=\"dataframe\">\n",
       "  <thead>\n",
       "    <tr style=\"text-align: right;\">\n",
       "      <th></th>\n",
       "      <th>label</th>\n",
       "      <th>id</th>\n",
       "      <th>visitTime</th>\n",
       "      <th>purchaseTime</th>\n",
       "      <th>hour</th>\n",
       "      <th>C1</th>\n",
       "      <th>C2</th>\n",
       "      <th>C3</th>\n",
       "      <th>C4</th>\n",
       "      <th>C5</th>\n",
       "      <th>C6</th>\n",
       "      <th>C7</th>\n",
       "      <th>C8</th>\n",
       "      <th>N1</th>\n",
       "      <th>C9</th>\n",
       "      <th>N2</th>\n",
       "      <th>N3</th>\n",
       "      <th>N4</th>\n",
       "      <th>N5</th>\n",
       "      <th>N6</th>\n",
       "      <th>N7</th>\n",
       "      <th>N8</th>\n",
       "      <th>N9</th>\n",
       "      <th>N10</th>\n",
       "      <th>C10</th>\n",
       "      <th>C11</th>\n",
       "      <th>C12</th>\n",
       "    </tr>\n",
       "  </thead>\n",
       "  <tbody>\n",
       "    <tr>\n",
       "      <td>0</td>\n",
       "      <td>-1</td>\n",
       "      <td>37</td>\n",
       "      <td>19274330</td>\n",
       "      <td>-1</td>\n",
       "      <td>0</td>\n",
       "      <td>2569487005</td>\n",
       "      <td>1830830742</td>\n",
       "      <td>4228834423</td>\n",
       "      <td>652481754</td>\n",
       "      <td>2967512603</td>\n",
       "      <td>3624739744</td>\n",
       "      <td>2303407174</td>\n",
       "      <td>2206061889</td>\n",
       "      <td>0</td>\n",
       "      <td>4287642944</td>\n",
       "      <td>0</td>\n",
       "      <td>0</td>\n",
       "      <td>0</td>\n",
       "      <td>0</td>\n",
       "      <td>0</td>\n",
       "      <td>0</td>\n",
       "      <td>0</td>\n",
       "      <td>0</td>\n",
       "      <td>0</td>\n",
       "      <td>419316267</td>\n",
       "      <td>3617851689</td>\n",
       "      <td>4220791646</td>\n",
       "    </tr>\n",
       "    <tr>\n",
       "      <td>1</td>\n",
       "      <td>-1</td>\n",
       "      <td>55</td>\n",
       "      <td>19274334</td>\n",
       "      <td>-1</td>\n",
       "      <td>0</td>\n",
       "      <td>3191875643</td>\n",
       "      <td>403381353</td>\n",
       "      <td>1238330876</td>\n",
       "      <td>652481754</td>\n",
       "      <td>2967512603</td>\n",
       "      <td>179712055</td>\n",
       "      <td>2303407174</td>\n",
       "      <td>157533148</td>\n",
       "      <td>1</td>\n",
       "      <td>3272771221</td>\n",
       "      <td>0</td>\n",
       "      <td>1</td>\n",
       "      <td>0</td>\n",
       "      <td>0</td>\n",
       "      <td>0</td>\n",
       "      <td>0</td>\n",
       "      <td>1</td>\n",
       "      <td>0</td>\n",
       "      <td>0</td>\n",
       "      <td>1968545380</td>\n",
       "      <td>3831440054</td>\n",
       "      <td>1213938795</td>\n",
       "    </tr>\n",
       "    <tr>\n",
       "      <td>2</td>\n",
       "      <td>-1</td>\n",
       "      <td>114</td>\n",
       "      <td>19274353</td>\n",
       "      <td>-1</td>\n",
       "      <td>0</td>\n",
       "      <td>2634604934</td>\n",
       "      <td>403381353</td>\n",
       "      <td>1928325921</td>\n",
       "      <td>652481754</td>\n",
       "      <td>2967512603</td>\n",
       "      <td>1607619193</td>\n",
       "      <td>2303407174</td>\n",
       "      <td>3588031319</td>\n",
       "      <td>0</td>\n",
       "      <td>3329757940</td>\n",
       "      <td>0</td>\n",
       "      <td>0</td>\n",
       "      <td>0</td>\n",
       "      <td>0</td>\n",
       "      <td>0</td>\n",
       "      <td>0</td>\n",
       "      <td>0</td>\n",
       "      <td>0</td>\n",
       "      <td>0</td>\n",
       "      <td>1405802835</td>\n",
       "      <td>2379633508</td>\n",
       "      <td>1284343215</td>\n",
       "    </tr>\n",
       "    <tr>\n",
       "      <td>3</td>\n",
       "      <td>-1</td>\n",
       "      <td>128</td>\n",
       "      <td>19274358</td>\n",
       "      <td>-1</td>\n",
       "      <td>0</td>\n",
       "      <td>2569487005</td>\n",
       "      <td>403381353</td>\n",
       "      <td>296915027</td>\n",
       "      <td>652481754</td>\n",
       "      <td>2967512603</td>\n",
       "      <td>10212495</td>\n",
       "      <td>2303407174</td>\n",
       "      <td>3588031319</td>\n",
       "      <td>0</td>\n",
       "      <td>3427046189</td>\n",
       "      <td>0</td>\n",
       "      <td>0</td>\n",
       "      <td>0</td>\n",
       "      <td>0</td>\n",
       "      <td>0</td>\n",
       "      <td>0</td>\n",
       "      <td>0</td>\n",
       "      <td>0</td>\n",
       "      <td>0</td>\n",
       "      <td>2299319102</td>\n",
       "      <td>3617851689</td>\n",
       "      <td>4220791646</td>\n",
       "    </tr>\n",
       "    <tr>\n",
       "      <td>4</td>\n",
       "      <td>-1</td>\n",
       "      <td>164</td>\n",
       "      <td>19274367</td>\n",
       "      <td>-1</td>\n",
       "      <td>0</td>\n",
       "      <td>2569487005</td>\n",
       "      <td>403381353</td>\n",
       "      <td>681762206</td>\n",
       "      <td>652481754</td>\n",
       "      <td>2967512603</td>\n",
       "      <td>580883881</td>\n",
       "      <td>2303407174</td>\n",
       "      <td>157533148</td>\n",
       "      <td>0</td>\n",
       "      <td>2088887026</td>\n",
       "      <td>0</td>\n",
       "      <td>0</td>\n",
       "      <td>0</td>\n",
       "      <td>0</td>\n",
       "      <td>0</td>\n",
       "      <td>0</td>\n",
       "      <td>0</td>\n",
       "      <td>0</td>\n",
       "      <td>0</td>\n",
       "      <td>1306075469</td>\n",
       "      <td>3617851689</td>\n",
       "      <td>4220791646</td>\n",
       "    </tr>\n",
       "  </tbody>\n",
       "</table>\n",
       "</div>"
      ],
      "text/plain": [
       "   label   id  visitTime  purchaseTime  hour          C1          C2  \\\n",
       "0     -1   37   19274330            -1     0  2569487005  1830830742   \n",
       "1     -1   55   19274334            -1     0  3191875643   403381353   \n",
       "2     -1  114   19274353            -1     0  2634604934   403381353   \n",
       "3     -1  128   19274358            -1     0  2569487005   403381353   \n",
       "4     -1  164   19274367            -1     0  2569487005   403381353   \n",
       "\n",
       "           C3         C4          C5          C6          C7          C8  N1  \\\n",
       "0  4228834423  652481754  2967512603  3624739744  2303407174  2206061889   0   \n",
       "1  1238330876  652481754  2967512603   179712055  2303407174   157533148   1   \n",
       "2  1928325921  652481754  2967512603  1607619193  2303407174  3588031319   0   \n",
       "3   296915027  652481754  2967512603    10212495  2303407174  3588031319   0   \n",
       "4   681762206  652481754  2967512603   580883881  2303407174   157533148   0   \n",
       "\n",
       "           C9  N2  N3  N4  N5  N6  N7  N8  N9  N10         C10         C11  \\\n",
       "0  4287642944   0   0   0   0   0   0   0   0    0   419316267  3617851689   \n",
       "1  3272771221   0   1   0   0   0   0   1   0    0  1968545380  3831440054   \n",
       "2  3329757940   0   0   0   0   0   0   0   0    0  1405802835  2379633508   \n",
       "3  3427046189   0   0   0   0   0   0   0   0    0  2299319102  3617851689   \n",
       "4  2088887026   0   0   0   0   0   0   0   0    0  1306075469  3617851689   \n",
       "\n",
       "          C12  \n",
       "0  4220791646  \n",
       "1  1213938795  \n",
       "2  1284343215  \n",
       "3  4220791646  \n",
       "4  4220791646  "
      ]
     },
     "execution_count": 29,
     "metadata": {},
     "output_type": "execute_result"
    }
   ],
   "source": [
    "# uploading first data set (training)\n",
    "\n",
    "train = pd.read_csv('./train.csv')\n",
    "train.head()"
   ]
  },
  {
   "cell_type": "code",
   "execution_count": 30,
   "metadata": {},
   "outputs": [
    {
     "data": {
      "text/plain": [
       "Index(['label', 'id', 'visitTime', 'purchaseTime', 'hour', 'C1', 'C2', 'C3',\n",
       "       'C4', 'C5', 'C6', 'C7', 'C8', 'N1', 'C9', 'N2', 'N3', 'N4', 'N5', 'N6',\n",
       "       'N7', 'N8', 'N9', 'N10', 'C10', 'C11', 'C12'],\n",
       "      dtype='object')"
      ]
     },
     "execution_count": 30,
     "metadata": {},
     "output_type": "execute_result"
    }
   ],
   "source": [
    "train.columns"
   ]
  },
  {
   "cell_type": "code",
   "execution_count": 37,
   "metadata": {},
   "outputs": [],
   "source": [
    "# handle categorical data\n",
    "col = ['C1','C2','C3','C4','C5','C6','C7','C8','C9','C10','C11','C12','id']\n",
    "for name in col:\n",
    "    train[name] = train[name].astype('object')"
   ]
  },
  {
   "cell_type": "code",
   "execution_count": 38,
   "metadata": {},
   "outputs": [],
   "source": [
    "# strasify predicted data ('label')\n",
    "\n",
    "train_clean = train.drop(columns=['label','id','visitTime','purchaseTime','C1','C3','C10']).values\n",
    "\n",
    "X = train_clean.copy()\n",
    "y = np.array(label.copy())"
   ]
  },
  {
   "cell_type": "raw",
   "metadata": {},
   "source": [
    "Split data into train and test"
   ]
  },
  {
   "cell_type": "code",
   "execution_count": 42,
   "metadata": {},
   "outputs": [
    {
     "data": {
      "text/plain": [
       "(31428, 85768)"
      ]
     },
     "execution_count": 42,
     "metadata": {},
     "output_type": "execute_result"
    }
   ],
   "source": [
    "df = train.copy()\n",
    "train_data = train[['N1','N2','N3','N4','N5','N6','N7','N8','N9','N10','C2','C4','C7']] # 'C4','C7'\n",
    "train_data = pd.get_dummies(train,drop_first=True)\n",
    "train_data.shape"
   ]
  },
  {
   "cell_type": "raw",
   "metadata": {},
   "source": [
    "We need to re-sampling the data because targeted data is not balanced (too many not purchased, -1)"
   ]
  },
  {
   "cell_type": "code",
   "execution_count": null,
   "metadata": {},
   "outputs": [],
   "source": [
    "# start to re-sampling\n",
    "id_toTrain = np.array([np.where(Y_train==i)[0] for i in range(nb_class)])\n",
    "\n",
    "size_max = [len(id_toTrain[i]) for i in range(nb_class)]\n",
    "print(f\"Before resampling we the distribution is as follows [non-sale, sale]: {size_max}\")\n",
    "\n",
    "blc = 150\n",
    "for i in range(len(size_max)):\n",
    "    if size_max[i] > blc:\n",
    "        size_max[i] = int(blc*(np.log10(size_max[i]/blc)+1))\n",
    "    else:\n",
    "        size_max[i] = int(blc/(np.log10(blc/size_max[i])+1))\n",
    "\n",
    "print(f\"After resampling we the distribution is as follows [non-sale, sale]: {size_max}\")\n",
    "\n",
    "for i in range(nb_class):\n",
    "    if len(id_toTrain[i]) > size_max[i]:\n",
    "        id_toTrain[i], tmp = train_test_split(id_toTrain[i], test_size=1-size_max[i]/len(id_toTrain[i]))\n",
    "    else:\n",
    "        id_toTrain[i] = np.concatenate((id_toTrain[i], id_toTrain[i][np.random.randint(len(id_toTrain[i]), size=int(size_max[i]-len(id_toTrain[i])))]))\n",
    "id_toTrain = np.concatenate(id_toTrain)\n",
    "X_toTrain = X_train[id_toTrain]\n",
    "Y_toTrain = Y_train[id_toTrain]\n"
   ]
  },
  {
   "cell_type": "code",
   "execution_count": 44,
   "metadata": {},
   "outputs": [
    {
     "data": {
      "text/plain": [
       "31428"
      ]
     },
     "execution_count": 44,
     "metadata": {},
     "output_type": "execute_result"
    }
   ],
   "source": [
    "len(train['label'])"
   ]
  },
  {
   "cell_type": "raw",
   "metadata": {},
   "source": [
    "Fit the sampling with SMOTE algorithm"
   ]
  },
  {
   "cell_type": "code",
   "execution_count": 45,
   "metadata": {},
   "outputs": [],
   "source": [
    "X = train.loc[:, train.columns != 'label']\n",
    "y = train.loc[:, train.columns == 'label']\n",
    "y = y.astype('int')\n",
    "os = SMOTE(random_state=0)\n",
    "X_train, X_test, y_train, y_test = train_test_split(X, y, test_size=0.3, random_state=0)\n",
    "columns = X_train.columns\n",
    "os_data_X,os_data_y=os.fit_sample(X_train, y_train)\n",
    "os_data_X = pd.DataFrame(data=os_data_X,columns=columns )\n",
    "os_data_y= pd.DataFrame(data=os_data_y,columns=['label'])"
   ]
  },
  {
   "cell_type": "raw",
   "metadata": {},
   "source": [
    "Check the data"
   ]
  },
  {
   "cell_type": "code",
   "execution_count": 46,
   "metadata": {},
   "outputs": [
    {
     "name": "stdout",
     "output_type": "stream",
     "text": [
      "Length of oversampled data is  43914\n",
      "Number of no subscription in oversampled data 21957\n",
      "Number of subscription 21957\n",
      "Proportion of no subscription data in oversampled data is  0.5\n",
      "Proportion of subscription data in oversampled data is  0.5\n"
     ]
    }
   ],
   "source": [
    "print(\"Length of oversampled data is \",len(os_data_X))\n",
    "print(\"Number of no subscription in oversampled data\",len(os_data_y[os_data_y['label']==-1]))\n",
    "print(\"Number of subscription\",len(os_data_y[os_data_y['label']==1]))\n",
    "print(\"Proportion of no subscription data in oversampled data is \",len(os_data_y[os_data_y['label']==-1])/len(os_data_X))\n",
    "print(\"Proportion of subscription data in oversampled data is \",len(os_data_y[os_data_y['label']==1])/len(os_data_X))"
   ]
  },
  {
   "cell_type": "raw",
   "metadata": {},
   "source": [
    "Aggregate the data into data frame"
   ]
  },
  {
   "cell_type": "code",
   "execution_count": 47,
   "metadata": {},
   "outputs": [
    {
     "data": {
      "text/html": [
       "<div>\n",
       "<style scoped>\n",
       "    .dataframe tbody tr th:only-of-type {\n",
       "        vertical-align: middle;\n",
       "    }\n",
       "\n",
       "    .dataframe tbody tr th {\n",
       "        vertical-align: top;\n",
       "    }\n",
       "\n",
       "    .dataframe thead th {\n",
       "        text-align: right;\n",
       "    }\n",
       "</style>\n",
       "<table border=\"1\" class=\"dataframe\">\n",
       "  <thead>\n",
       "    <tr style=\"text-align: right;\">\n",
       "      <th></th>\n",
       "      <th>label</th>\n",
       "      <th>id</th>\n",
       "      <th>visitTime</th>\n",
       "      <th>purchaseTime</th>\n",
       "      <th>hour</th>\n",
       "      <th>C1</th>\n",
       "      <th>C2</th>\n",
       "      <th>C3</th>\n",
       "      <th>C4</th>\n",
       "      <th>C5</th>\n",
       "      <th>C6</th>\n",
       "      <th>C7</th>\n",
       "      <th>C8</th>\n",
       "      <th>N1</th>\n",
       "      <th>C9</th>\n",
       "      <th>N2</th>\n",
       "      <th>N3</th>\n",
       "      <th>N4</th>\n",
       "      <th>N5</th>\n",
       "      <th>N6</th>\n",
       "      <th>N7</th>\n",
       "      <th>N8</th>\n",
       "      <th>N9</th>\n",
       "      <th>N10</th>\n",
       "      <th>C10</th>\n",
       "      <th>C11</th>\n",
       "      <th>C12</th>\n",
       "    </tr>\n",
       "  </thead>\n",
       "  <tbody>\n",
       "    <tr>\n",
       "      <td>0</td>\n",
       "      <td>-1</td>\n",
       "      <td>103743</td>\n",
       "      <td>19301822</td>\n",
       "      <td>-1</td>\n",
       "      <td>7</td>\n",
       "      <td>2.56949e+09</td>\n",
       "      <td>4.03381e+08</td>\n",
       "      <td>3.47535e+09</td>\n",
       "      <td>6.52482e+08</td>\n",
       "      <td>2.96751e+09</td>\n",
       "      <td>2.08799e+09</td>\n",
       "      <td>2.30341e+09</td>\n",
       "      <td>3.58803e+09</td>\n",
       "      <td>0</td>\n",
       "      <td>1.26614e+09</td>\n",
       "      <td>0</td>\n",
       "      <td>0</td>\n",
       "      <td>0</td>\n",
       "      <td>0</td>\n",
       "      <td>0</td>\n",
       "      <td>0</td>\n",
       "      <td>0</td>\n",
       "      <td>0</td>\n",
       "      <td>0</td>\n",
       "      <td>3.54393e+09</td>\n",
       "      <td>3.61785e+09</td>\n",
       "      <td>4.22079e+09</td>\n",
       "    </tr>\n",
       "    <tr>\n",
       "      <td>1</td>\n",
       "      <td>-1</td>\n",
       "      <td>560491</td>\n",
       "      <td>19339276</td>\n",
       "      <td>-1</td>\n",
       "      <td>18</td>\n",
       "      <td>2.05547e+09</td>\n",
       "      <td>1.23598e+09</td>\n",
       "      <td>4.26136e+09</td>\n",
       "      <td>6.52482e+08</td>\n",
       "      <td>2.11677e+09</td>\n",
       "      <td>5.71766e+08</td>\n",
       "      <td>2.30341e+09</td>\n",
       "      <td>2.37495e+09</td>\n",
       "      <td>0</td>\n",
       "      <td>2.22668e+09</td>\n",
       "      <td>0</td>\n",
       "      <td>0</td>\n",
       "      <td>0</td>\n",
       "      <td>0</td>\n",
       "      <td>0</td>\n",
       "      <td>0</td>\n",
       "      <td>0</td>\n",
       "      <td>0</td>\n",
       "      <td>0</td>\n",
       "      <td>3.94503e+09</td>\n",
       "      <td>3.83144e+09</td>\n",
       "      <td>1.21394e+09</td>\n",
       "    </tr>\n",
       "    <tr>\n",
       "      <td>2</td>\n",
       "      <td>-1</td>\n",
       "      <td>367412</td>\n",
       "      <td>19321168</td>\n",
       "      <td>-1</td>\n",
       "      <td>13</td>\n",
       "      <td>2.56949e+09</td>\n",
       "      <td>2.01871e+09</td>\n",
       "      <td>4.35761e+08</td>\n",
       "      <td>6.52482e+08</td>\n",
       "      <td>2.96751e+09</td>\n",
       "      <td>3.01712e+09</td>\n",
       "      <td>2.30341e+09</td>\n",
       "      <td>3.58803e+09</td>\n",
       "      <td>0</td>\n",
       "      <td>2.71109e+09</td>\n",
       "      <td>0</td>\n",
       "      <td>0</td>\n",
       "      <td>0</td>\n",
       "      <td>0</td>\n",
       "      <td>0</td>\n",
       "      <td>0</td>\n",
       "      <td>0</td>\n",
       "      <td>0</td>\n",
       "      <td>0</td>\n",
       "      <td>2.33689e+09</td>\n",
       "      <td>3.61785e+09</td>\n",
       "      <td>4.22079e+09</td>\n",
       "    </tr>\n",
       "    <tr>\n",
       "      <td>3</td>\n",
       "      <td>-1</td>\n",
       "      <td>155153</td>\n",
       "      <td>19305580</td>\n",
       "      <td>-1</td>\n",
       "      <td>8</td>\n",
       "      <td>2.35941e+09</td>\n",
       "      <td>4.03381e+08</td>\n",
       "      <td>2.00007e+08</td>\n",
       "      <td>6.52482e+08</td>\n",
       "      <td>2.96751e+09</td>\n",
       "      <td>2.7125e+09</td>\n",
       "      <td>2.30341e+09</td>\n",
       "      <td>2.20606e+09</td>\n",
       "      <td>0</td>\n",
       "      <td>3.8598e+08</td>\n",
       "      <td>0</td>\n",
       "      <td>0</td>\n",
       "      <td>0</td>\n",
       "      <td>0</td>\n",
       "      <td>0</td>\n",
       "      <td>0</td>\n",
       "      <td>0</td>\n",
       "      <td>0</td>\n",
       "      <td>0</td>\n",
       "      <td>3.72524e+09</td>\n",
       "      <td>3.83144e+09</td>\n",
       "      <td>2.54898e+09</td>\n",
       "    </tr>\n",
       "    <tr>\n",
       "      <td>4</td>\n",
       "      <td>-1</td>\n",
       "      <td>61015</td>\n",
       "      <td>19297622</td>\n",
       "      <td>-1</td>\n",
       "      <td>6</td>\n",
       "      <td>2.56949e+09</td>\n",
       "      <td>2.5412e+09</td>\n",
       "      <td>2.59372e+09</td>\n",
       "      <td>2.30817e+09</td>\n",
       "      <td>2.96751e+09</td>\n",
       "      <td>3.17864e+09</td>\n",
       "      <td>2.30341e+09</td>\n",
       "      <td>3.58803e+09</td>\n",
       "      <td>0</td>\n",
       "      <td>3.87475e+08</td>\n",
       "      <td>0</td>\n",
       "      <td>0</td>\n",
       "      <td>0</td>\n",
       "      <td>0</td>\n",
       "      <td>0</td>\n",
       "      <td>0</td>\n",
       "      <td>0</td>\n",
       "      <td>0</td>\n",
       "      <td>0</td>\n",
       "      <td>2.68126e+09</td>\n",
       "      <td>3.61785e+09</td>\n",
       "      <td>4.22079e+09</td>\n",
       "    </tr>\n",
       "  </tbody>\n",
       "</table>\n",
       "</div>"
      ],
      "text/plain": [
       "   label      id  visitTime  purchaseTime  hour           C1           C2  \\\n",
       "0     -1  103743   19301822            -1     7  2.56949e+09  4.03381e+08   \n",
       "1     -1  560491   19339276            -1    18  2.05547e+09  1.23598e+09   \n",
       "2     -1  367412   19321168            -1    13  2.56949e+09  2.01871e+09   \n",
       "3     -1  155153   19305580            -1     8  2.35941e+09  4.03381e+08   \n",
       "4     -1   61015   19297622            -1     6  2.56949e+09   2.5412e+09   \n",
       "\n",
       "            C3           C4           C5           C6           C7  \\\n",
       "0  3.47535e+09  6.52482e+08  2.96751e+09  2.08799e+09  2.30341e+09   \n",
       "1  4.26136e+09  6.52482e+08  2.11677e+09  5.71766e+08  2.30341e+09   \n",
       "2  4.35761e+08  6.52482e+08  2.96751e+09  3.01712e+09  2.30341e+09   \n",
       "3  2.00007e+08  6.52482e+08  2.96751e+09   2.7125e+09  2.30341e+09   \n",
       "4  2.59372e+09  2.30817e+09  2.96751e+09  3.17864e+09  2.30341e+09   \n",
       "\n",
       "            C8  N1           C9  N2  N3  N4  N5  N6  N7  N8  N9  N10  \\\n",
       "0  3.58803e+09   0  1.26614e+09   0   0   0   0   0   0   0   0    0   \n",
       "1  2.37495e+09   0  2.22668e+09   0   0   0   0   0   0   0   0    0   \n",
       "2  3.58803e+09   0  2.71109e+09   0   0   0   0   0   0   0   0    0   \n",
       "3  2.20606e+09   0   3.8598e+08   0   0   0   0   0   0   0   0    0   \n",
       "4  3.58803e+09   0  3.87475e+08   0   0   0   0   0   0   0   0    0   \n",
       "\n",
       "           C10          C11          C12  \n",
       "0  3.54393e+09  3.61785e+09  4.22079e+09  \n",
       "1  3.94503e+09  3.83144e+09  1.21394e+09  \n",
       "2  2.33689e+09  3.61785e+09  4.22079e+09  \n",
       "3  3.72524e+09  3.83144e+09  2.54898e+09  \n",
       "4  2.68126e+09  3.61785e+09  4.22079e+09  "
      ]
     },
     "execution_count": 47,
     "metadata": {},
     "output_type": "execute_result"
    }
   ],
   "source": [
    "train = pd.concat([os_data_y, os_data_X], axis=1)\n",
    "train.head()"
   ]
  },
  {
   "cell_type": "raw",
   "metadata": {},
   "source": [
    "Next, we need to perform feature handling to optimize the correlated features"
   ]
  },
  {
   "cell_type": "code",
   "execution_count": 48,
   "metadata": {},
   "outputs": [
    {
     "name": "stdout",
     "output_type": "stream",
     "text": [
      "[ True  True  True False  True  True  True  True  True  True  True  True\n",
      " False  True False  True  True False False False  True  True  True  True\n",
      "  True  True]\n",
      "[1 1 1 3 1 1 1 1 1 1 1 1 5 1 6 1 1 4 2 7 1 1 1 1 1 1]\n",
      "Index(['id', 'visitTime', 'purchaseTime', 'hour', 'C1', 'C2', 'C3', 'C4', 'C5',\n",
      "       'C6', 'C7', 'C8', 'N1', 'C9', 'N2', 'N3', 'N4', 'N5', 'N6', 'N7', 'N8',\n",
      "       'N9', 'N10', 'C10', 'C11', 'C12'],\n",
      "      dtype='object')\n"
     ]
    }
   ],
   "source": [
    "train_final_vars = train.columns.values.tolist()\n",
    "y = ['label']\n",
    "X = [i for i in train_final_vars if i not in y]\n",
    "\n",
    "logreg = LogisticRegression()\n",
    "rfe = RFE(logreg, 20)\n",
    "rfe = rfe.fit(os_data_X, os_data_y.values.ravel())\n",
    "print(rfe.support_)\n",
    "print(rfe.ranking_)\n",
    "print(columns)"
   ]
  },
  {
   "cell_type": "code",
   "execution_count": 49,
   "metadata": {},
   "outputs": [
    {
     "name": "stdout",
     "output_type": "stream",
     "text": [
      "Optimization terminated successfully.\n",
      "         Current function value: 0.359678\n",
      "         Iterations 12\n",
      "                         Results: Logit\n",
      "=================================================================\n",
      "Model:              Logit            Pseudo R-squared: 0.481     \n",
      "Dependent Variable: label            AIC:              31599.7746\n",
      "Date:               2020-03-22 21:54 BIC:              31643.2245\n",
      "No. Observations:   43914            Log-Likelihood:   -15795.   \n",
      "Df Model:           4                LL-Null:          -30439.   \n",
      "Df Residuals:       43909            LLR p-value:      0.0000    \n",
      "Converged:          1.0000           Scale:            1.0000    \n",
      "No. Iterations:     12.0000                                      \n",
      "-------------------------------------------------------------------\n",
      "          Coef.    Std.Err.      z       P>|z|     [0.025    0.975]\n",
      "-------------------------------------------------------------------\n",
      "N1       -1.2048     0.0286   -42.0642   0.0000   -1.2609   -1.1487\n",
      "N3        0.3731     0.0225    16.5872   0.0000    0.3290    0.4172\n",
      "N8       -0.1757     0.0190    -9.2574   0.0000   -0.2129   -0.1385\n",
      "N9        3.3179     0.0992    33.4465   0.0000    3.1235    3.5123\n",
      "N10      -0.2494     0.0577    -4.3219   0.0000   -0.3624   -0.1363\n",
      "=================================================================\n",
      "\n"
     ]
    }
   ],
   "source": [
    "# select only significant varialbes to the targeted value\n",
    "cols = ['N1', 'N3', 'N8','N9', 'N10']\n",
    "\n",
    "X = os_data_X[cols]\n",
    "y = os_data_y['label']\n",
    "os_data_y['label'].replace({-1: 0}, inplace=True)\n",
    "\n",
    "logit_model=sm.Logit(y,X)\n",
    "result=logit_model.fit()\n",
    "print(result.summary2())"
   ]
  },
  {
   "cell_type": "raw",
   "metadata": {},
   "source": [
    "Apply model [model selected: logistic regression]"
   ]
  },
  {
   "cell_type": "code",
   "execution_count": 50,
   "metadata": {},
   "outputs": [
    {
     "data": {
      "text/plain": [
       "LogisticRegression(C=1.0, class_weight=None, dual=False, fit_intercept=True,\n",
       "                   intercept_scaling=1, l1_ratio=None, max_iter=100,\n",
       "                   multi_class='auto', n_jobs=None, penalty='l2',\n",
       "                   random_state=None, solver='lbfgs', tol=0.0001, verbose=0,\n",
       "                   warm_start=False)"
      ]
     },
     "execution_count": 50,
     "metadata": {},
     "output_type": "execute_result"
    }
   ],
   "source": [
    "X_train, X_test, y_train, y_test = train_test_split(X, y, test_size=0.3, random_state=0)\n",
    "\n",
    "logreg = LogisticRegression()\n",
    "logreg.fit(X_train, y_train)"
   ]
  },
  {
   "cell_type": "code",
   "execution_count": 51,
   "metadata": {},
   "outputs": [
    {
     "data": {
      "text/plain": [
       "LogisticRegression(C=1.0, class_weight=None, dual=False, fit_intercept=True,\n",
       "                   intercept_scaling=1, l1_ratio=None, max_iter=100,\n",
       "                   multi_class='auto', n_jobs=None, penalty='l2',\n",
       "                   random_state=None, solver='lbfgs', tol=0.0001, verbose=0,\n",
       "                   warm_start=False)"
      ]
     },
     "execution_count": 51,
     "metadata": {},
     "output_type": "execute_result"
    }
   ],
   "source": [
    "# start predicting\n",
    "X_train, X_test, y_train, y_test = train_test_split(X, y, test_size=0.3, random_state=0)\n",
    "\n",
    "logreg = LogisticRegression()\n",
    "logreg.fit(X_train, y_train)"
   ]
  },
  {
   "cell_type": "code",
   "execution_count": 52,
   "metadata": {},
   "outputs": [
    {
     "name": "stdout",
     "output_type": "stream",
     "text": [
      "Accuracy of logistic regression: 0.94\n"
     ]
    }
   ],
   "source": [
    "y_pred = logreg.predict(X_test)\n",
    "print('Accuracy of logistic regression: {:.2f}'.format(logreg.score(X_test, y_test)))"
   ]
  },
  {
   "cell_type": "code",
   "execution_count": 61,
   "metadata": {},
   "outputs": [
    {
     "data": {
      "text/plain": [
       "0        103743\n",
       "1        560491\n",
       "2        367412\n",
       "3        155153\n",
       "4         61015\n",
       "          ...  \n",
       "43909    386517\n",
       "43910    458182\n",
       "43911    328534\n",
       "43912    115831\n",
       "43913    398585\n",
       "Name: id, Length: 43914, dtype: object"
      ]
     },
     "execution_count": 61,
     "metadata": {},
     "output_type": "execute_result"
    }
   ],
   "source": [
    "# prepare to aggregate data\n",
    "pred_list = y_pred.tolist()\n",
    "\n",
    "X_with_prediction = X\n",
    "X_with_prediction [\"Predicted score\"] = pred_list\n",
    "\n",
    "train['id']"
   ]
  },
  {
   "cell_type": "code",
   "execution_count": 62,
   "metadata": {},
   "outputs": [],
   "source": [
    "Export = pd.concat([train['id'], X_with_prediction['Predicted score']], axis=1)"
   ]
  },
  {
   "cell_type": "code",
   "execution_count": 65,
   "metadata": {},
   "outputs": [],
   "source": [
    "Export.to_csv('/Users/macbook/Desktop/ML with Python/Assignment 2-3/Final_Assignment-Tanasit.csv', index = False)"
   ]
  },
  {
   "cell_type": "code",
   "execution_count": null,
   "metadata": {},
   "outputs": [],
   "source": []
  }
 ],
 "metadata": {
  "kernelspec": {
   "display_name": "Python 3",
   "language": "python",
   "name": "python3"
  },
  "language_info": {
   "codemirror_mode": {
    "name": "ipython",
    "version": 3
   },
   "file_extension": ".py",
   "mimetype": "text/x-python",
   "name": "python",
   "nbconvert_exporter": "python",
   "pygments_lexer": "ipython3",
   "version": "3.7.4"
  }
 },
 "nbformat": 4,
 "nbformat_minor": 4
}
